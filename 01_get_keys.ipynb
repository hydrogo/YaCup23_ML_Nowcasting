{
 "cells": [
  {
   "cell_type": "code",
   "execution_count": 1,
   "metadata": {},
   "outputs": [],
   "source": [
    "import h5py\n",
    "import numpy as np"
   ]
  },
  {
   "cell_type": "code",
   "execution_count": 3,
   "metadata": {},
   "outputs": [],
   "source": [
    "def get_seqs(file_instance, seq_len):\n",
    "\n",
    "    # get and sort timestamps\n",
    "    timestamps = sorted(file_instance.keys())\n",
    "\n",
    "    # get overlapped lists\n",
    "    sequences = [timestamps[index: index + seq_len] for index in range(len(timestamps) - seq_len + 1)]\n",
    "\n",
    "    # filter for only consequetive timestamps inside lists\n",
    "    sequences = list(filter(lambda x: int(x[-1]) - int(x[0]) == (seq_len - 1) * 600, sequences))\n",
    "\n",
    "    return sequences"
   ]
  },
  {
   "cell_type": "code",
   "execution_count": 4,
   "metadata": {},
   "outputs": [],
   "source": [
    "keys_file = {}\n",
    "\n",
    "for month in [\"01\", \"02\", \"03\", \"04\", \"05\", \"06\", \"07\", \"08\", \"09\", \"10\", \"11\", \"12\"]:\n",
    "    \n",
    "    keys_file[int(month)] = {}\n",
    "\n",
    "    for seq_len in [3, 5, 16]:\n",
    "\n",
    "        with h5py.File(f\"./train/2021-{month}-train.hdf5\", mode=\"r\") as f:\n",
    "\n",
    "            keys_file[int(month)][seq_len] = get_seqs(f, seq_len)"
   ]
  },
  {
   "cell_type": "code",
   "execution_count": 5,
   "metadata": {},
   "outputs": [],
   "source": [
    "np.save(\"./keys.npy\", keys_file)"
   ]
  }
 ],
 "metadata": {
  "kernelspec": {
   "display_name": "Python 3 (ipykernel)",
   "language": "python",
   "name": "python3"
  },
  "language_info": {
   "codemirror_mode": {
    "name": "ipython",
    "version": 3
   },
   "file_extension": ".py",
   "mimetype": "text/x-python",
   "name": "python",
   "nbconvert_exporter": "python",
   "pygments_lexer": "ipython3",
   "version": "3.9.18"
  }
 },
 "nbformat": 4,
 "nbformat_minor": 2
}
