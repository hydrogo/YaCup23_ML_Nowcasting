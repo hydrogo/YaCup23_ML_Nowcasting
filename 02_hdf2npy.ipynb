{
 "cells": [
  {
   "cell_type": "code",
   "execution_count": 2,
   "metadata": {},
   "outputs": [],
   "source": [
    "import h5py\n",
    "import numpy as np"
   ]
  },
  {
   "cell_type": "code",
   "execution_count": 5,
   "metadata": {},
   "outputs": [],
   "source": [
    "for month in [\"01\", \"02\", \"03\", \"04\", \"05\", \"06\", \"07\", \"08\", \"09\", \"10\", \"11\", \"12\"]:\n",
    "\n",
    "    with h5py.File(f\"./train/2021-{month}-train.hdf5\") as f:\n",
    "\n",
    "        timestamps = sorted(f.keys())\n",
    "\n",
    "        for ts in timestamps:\n",
    "            \n",
    "            # read\n",
    "            arr = np.array(f[ts][\"intensity\"])\n",
    "            \n",
    "            # filter some values following yandex's solution\n",
    "            arr[arr == -1e6] = 0 # no rain\n",
    "            arr[arr == -2e6] = -1 # no measurements\n",
    "\n",
    "            np.save(f\"./train_npy/{ts}.npy\", arr)"
   ]
  },
  {
   "cell_type": "code",
   "execution_count": null,
   "metadata": {},
   "outputs": [],
   "source": []
  },
  {
   "cell_type": "code",
   "execution_count": null,
   "metadata": {},
   "outputs": [],
   "source": []
  }
 ],
 "metadata": {
  "kernelspec": {
   "display_name": "Python 3 (ipykernel)",
   "language": "python",
   "name": "python3"
  },
  "language_info": {
   "codemirror_mode": {
    "name": "ipython",
    "version": 3
   },
   "file_extension": ".py",
   "mimetype": "text/x-python",
   "name": "python",
   "nbconvert_exporter": "python",
   "pygments_lexer": "ipython3",
   "version": "3.9.18"
  }
 },
 "nbformat": 4,
 "nbformat_minor": 2
}
